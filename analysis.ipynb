{
 "cells": [
  {
   "cell_type": "code",
   "execution_count": 1,
   "metadata": {},
   "outputs": [],
   "source": [
    "import pandas as pd\n",
    "\n",
    "from PSSimPy.simulator import BasicSim\n",
    "from PSSimPy.constraint_handler import MinBalanceConstraintHandler\n",
    "from PSSimPy.queues import FIFOQueue\n",
    "from PSSimPy.credit_facilities import SimplePriced\n",
    "from PSSimPy.transaction_fee import FixedTransactionFee"
   ]
  },
  {
   "cell_type": "code",
   "execution_count": 2,
   "metadata": {},
   "outputs": [],
   "source": [
    "# import data\n",
    "banks = pd.read_csv(\"data/banks.csv\", index_col=\"Unnamed: 0\")\n",
    "accounts = pd.read_csv(\"data/accounts.csv\", index_col=\"Unnamed: 0\")\n",
    "transactions = pd.read_csv(\"data/transactions.csv\", index_col=\"Unnamed: 0\")"
   ]
  },
  {
   "cell_type": "code",
   "execution_count": 3,
   "metadata": {},
   "outputs": [
    {
     "data": {
      "text/plain": [
       "{'sender_account': ['acc1', 'acc2', 'acc1'],\n",
       " 'receipient_account': ['acc2', 'acc3', 'acc3'],\n",
       " 'amount': [250, 100, 110],\n",
       " 'time': ['08:50', '09:00', '09:15']}"
      ]
     },
     "execution_count": 3,
     "metadata": {},
     "output_type": "execute_result"
    }
   ],
   "source": [
    "transactions.to_dict(orient='list')"
   ]
  },
  {
   "cell_type": "code",
   "execution_count": 4,
   "metadata": {},
   "outputs": [
    {
     "data": {
      "text/plain": [
       "{'sender_account': ['acc1', 'acc2', 'acc1'],\n",
       " 'receipient_account': ['acc2', 'acc3', 'acc3'],\n",
       " 'amount': [250, 100, 110],\n",
       " 'time': ['08:50', '09:00', '09:15']}"
      ]
     },
     "execution_count": 4,
     "metadata": {},
     "output_type": "execute_result"
    }
   ],
   "source": [
    "pd.DataFrame([\n",
    "            {'sender_account': 'acc1', 'receipient_account': 'acc2', 'amount': 250, 'time': '08:50'},\n",
    "            {'sender_account': 'acc2', 'receipient_account': 'acc3', 'amount': 100, 'time': '09:00'},\n",
    "            {'sender_account': 'acc1', 'receipient_account': 'acc3', 'amount': 110, 'time': '09:15'},\n",
    "        ]).to_dict(orient='list')"
   ]
  },
  {
   "cell_type": "code",
   "execution_count": 5,
   "metadata": {},
   "outputs": [],
   "source": [
    "# initialize simulator\n",
    "sim = BasicSim(name='rtgs',\n",
    "               banks=banks,\n",
    "               accounts=accounts,\n",
    "               transactions=transactions,\n",
    "               num_days=1,\n",
    "               open_time='08:00',\n",
    "               close_time='17:00',\n",
    "               constraint_handler=MinBalanceConstraintHandler(),\n",
    "               queue=FIFOQueue(),\n",
    "               credit_facility=SimplePriced(),\n",
    "               transaction_fee_handler=FixedTransactionFee())"
   ]
  },
  {
   "cell_type": "code",
   "execution_count": 6,
   "metadata": {},
   "outputs": [],
   "source": [
    "# execute simulation\n",
    "sim.run()"
   ]
  }
 ],
 "metadata": {
  "kernelspec": {
   "display_name": "pss",
   "language": "python",
   "name": "python3"
  },
  "language_info": {
   "codemirror_mode": {
    "name": "ipython",
    "version": 3
   },
   "file_extension": ".py",
   "mimetype": "text/x-python",
   "name": "python",
   "nbconvert_exporter": "python",
   "pygments_lexer": "ipython3",
   "version": "3.11.7"
  }
 },
 "nbformat": 4,
 "nbformat_minor": 2
}
