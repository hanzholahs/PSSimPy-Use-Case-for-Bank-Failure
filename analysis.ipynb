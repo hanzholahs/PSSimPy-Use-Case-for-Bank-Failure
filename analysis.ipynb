{
 "cells": [
  {
   "cell_type": "code",
   "execution_count": 1,
   "metadata": {},
   "outputs": [],
   "source": [
    "import pandas as pd\n",
    "\n",
    "from PSSimPy.simulator import BasicSim\n",
    "from PSSimPy.constraint_handler import MinBalanceConstraintHandler\n",
    "from PSSimPy.queues import FIFOQueue\n",
    "from PSSimPy.credit_facilities import SimplePriced\n",
    "from PSSimPy.transaction_fee import FixedTransactionFee"
   ]
  },
  {
   "cell_type": "markdown",
   "metadata": {},
   "source": [
    "# Setup Simulation"
   ]
  },
  {
   "cell_type": "code",
   "execution_count": 2,
   "metadata": {},
   "outputs": [],
   "source": [
    "# get data\n",
    "banks = pd.read_csv(\"data/banks.csv\")\n",
    "accounts = pd.read_csv(\"data/accounts.csv\")\n",
    "transactions = pd.read_csv(\"data/random-transactions.csv\")"
   ]
  },
  {
   "cell_type": "code",
   "execution_count": 3,
   "metadata": {},
   "outputs": [],
   "source": [
    "# simulation setup\n",
    "num_days = 10\n",
    "open_time = '08:00'\n",
    "close_time = '17:00'\n",
    "bank_failure = {6: [('13:30', 'b1')],\n",
    "                8: [('08:00', 'b7')]}"
   ]
  },
  {
   "cell_type": "code",
   "execution_count": 4,
   "metadata": {},
   "outputs": [],
   "source": [
    "# initialize simulator\n",
    "sim = BasicSim(name = 'rtgs',\n",
    "               banks = banks,\n",
    "               accounts = accounts,\n",
    "               transactions = transactions,\n",
    "               num_days = num_days,\n",
    "               open_time = open_time,\n",
    "               close_time = close_time,\n",
    "               bank_failure = bank_failure,\n",
    "               constraint_handler = MinBalanceConstraintHandler(),\n",
    "               queue = FIFOQueue(),\n",
    "               credit_facility = SimplePriced(),\n",
    "               transaction_fee_handler = FixedTransactionFee())"
   ]
  },
  {
   "cell_type": "code",
   "execution_count": 5,
   "metadata": {},
   "outputs": [],
   "source": [
    "# execute simulation\n",
    "sim.run()"
   ]
  },
  {
   "cell_type": "markdown",
   "metadata": {},
   "source": [
    "# Analysis"
   ]
  },
  {
   "cell_type": "code",
   "execution_count": null,
   "metadata": {},
   "outputs": [],
   "source": []
  },
  {
   "cell_type": "code",
   "execution_count": null,
   "metadata": {},
   "outputs": [],
   "source": []
  },
  {
   "cell_type": "code",
   "execution_count": null,
   "metadata": {},
   "outputs": [],
   "source": []
  },
  {
   "cell_type": "markdown",
   "metadata": {},
   "source": [
    "# Clean Up"
   ]
  },
  {
   "cell_type": "code",
   "execution_count": 6,
   "metadata": {},
   "outputs": [],
   "source": [
    "import os\n",
    "\n",
    "for file in [file for file in os.listdir() if file.endswith('.csv')]:\n",
    "    os.remove(file)"
   ]
  }
 ],
 "metadata": {
  "kernelspec": {
   "display_name": "pss",
   "language": "python",
   "name": "python3"
  },
  "language_info": {
   "codemirror_mode": {
    "name": "ipython",
    "version": 3
   },
   "file_extension": ".py",
   "mimetype": "text/x-python",
   "name": "python",
   "nbconvert_exporter": "python",
   "pygments_lexer": "ipython3",
   "version": "3.11.7"
  }
 },
 "nbformat": 4,
 "nbformat_minor": 2
}
